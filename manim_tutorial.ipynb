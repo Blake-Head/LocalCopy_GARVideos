{
 "cells": [
  {
   "cell_type": "markdown",
   "metadata": {},
   "source": [
    "Here I am attempting to write a step-by-step basic tutorial for how manim animations are set up, manipulated, and called.  This is based on how I (Blake) understand the system as of late 2024.  More than likely, my process is not the most efficient, but should get us going.\n",
    "\n",
    "I am writing this in a Jupyter notebook, which is just a file that can contain multiple blocks of different code and words (like here).  I think you should be able to open this and run chunks of code locally within the notebook.  This way, you don't need to set up extra bits of computer environment to test and learn the basics of Manim.\n",
    "\n",
    "The first block just below this is a starter command that (I think) just checks your system to ensure you actually have manim installed.  If you don't have manim installed, this block will show an error below, saying something to the effect of \"No moudle named `manim' \".  If you have manim, nothing notable should happen here.\n",
    "\n",
    "This also shows you how we will always be loading in the manim library.  This is all done in Python, with manim just being a library of tools within python.  The * symbol means \"Take every single tool from the manim box out\".  Sometimes, it's more efficient to only import the tools you know you'll be using rather than the entire library, but manim is small enough that we don't care.  "
   ]
  },
  {
   "cell_type": "code",
   "execution_count": 16,
   "metadata": {},
   "outputs": [],
   "source": [
    "from manim import *\n",
    " \n",
    "config.media_width = \"75%\"\n",
    "config.verbosity = \"WARNING\"\n"
   ]
  },
  {
   "cell_type": "markdown",
   "metadata": {},
   "source": [
    "Now we begin building our scene.\n",
    "\n",
    "In manim, all animations are generated in a class called \"Scene\".  Inside this scence, we will build all objects (colors, sizes, locations) and how they move (or don't move) on the screen via animations. \n",
    "\n",
    "All manim scripts will begin with the following:\n",
    "\n",
    "```python\n",
    "from manim import *\n",
    "\n",
    "class SCENE_NAME(Scene):\n",
    "    def construct(self):\n",
    "```\n",
    "\n",
    "Note the the top line in the block below (%%manim -qh SCENE_NAME) is only relevant here in the Jupyter notebook.  You won't be putting this line in your python script.\n",
    "\n",
    "These first three lines set up our template, but of course, there's nothing there yet.\n",
    "\n",
    "Let's add something.  Here, I've made a variable named \"a_circle\".  I can make that variable be equal to whatever I want, but here I've set it equal to a Manim object called \"Circle\", which is a function within manim that will create a circle of a default width, color, line stroke, and position. \n",
    "\n",
    "Let's run this and see what happens. "
   ]
  },
  {
   "cell_type": "code",
   "execution_count": 6,
   "metadata": {},
   "outputs": [
    {
     "data": {
      "text/html": [
       "<pre style=\"white-space:pre;overflow-x:auto;line-height:normal;font-family:Menlo,'DejaVu Sans Mono',consolas,'Courier New',monospace\">Manim Community <span style=\"color: #008000; text-decoration-color: #008000\">v0.18.1</span>\n",
       "\n",
       "</pre>\n"
      ],
      "text/plain": [
       "Manim Community \u001b[32mv0.\u001b[0m\u001b[32m18.1\u001b[0m\n",
       "\n"
      ]
     },
     "metadata": {},
     "output_type": "display_data"
    },
    {
     "data": {
      "image/png": "[encoded data removed]",
      "text/plain": [
       "<IPython.core.display.Image object>"
      ]
     },
     "metadata": {},
     "output_type": "display_data"
    }
   ],
   "source": [
    "%%manim -qh SCENE_NAME\n",
    "\n",
    "from manim import *\n",
    "\n",
    "class SCENE_NAME(Scene):        # Each chunk of code will begin with these two lines. The first line defines a 'class' called SCENE_NAME, which has the type \"scene\"\n",
    "    def construct(self):        # The second line defines the \"self\" construct.  I'm not entirely sure what this does, but you need it for things to work. \n",
    "        a_circle = Circle()     # Define a variable called \"a_circle\", which will be the MObject \"Circle\".  Currently, no paramenters are passed to the Circle function. "
   ]
  },
  {
   "cell_type": "markdown",
   "metadata": {},
   "source": [
    "Running this, nothing happens.  That's because we've only defined what our variable, \"circle\", is.  We haven't actually told the program to do anything with it.  \n",
    "\n",
    "Let's now tell the program to actually ANIMATE the circle onto the scene. \n",
    "\n",
    "Here, we've added the line \"self.play(Create(circle))\" to the end.  \n",
    "\n",
    "This command tells the program to play a certain type of animation, which in this case is the \"Create\" animation.  What thing do we want to create? The circle. "
   ]
  },
  {
   "cell_type": "code",
   "execution_count": 3,
   "metadata": {},
   "outputs": [
    {
     "data": {
      "text/html": [
       "<pre style=\"white-space:pre;overflow-x:auto;line-height:normal;font-family:Menlo,'DejaVu Sans Mono',consolas,'Courier New',monospace\">Manim Community <span style=\"color: #008000; text-decoration-color: #008000\">v0.18.1</span>\n",
       "\n",
       "</pre>\n"
      ],
      "text/plain": [
       "Manim Community \u001b[32mv0.\u001b[0m\u001b[32m18.1\u001b[0m\n",
       "\n"
      ]
     },
     "metadata": {},
     "output_type": "display_data"
    },
    {
     "name": "stderr",
     "output_type": "stream",
     "text": [
      "                                                                             \r"
     ]
    },
    {
     "data": {
      "text/html": [
       "<video src=\"media/jupyter/SCENE_NAME@2024-10-14@22-31-43.mp4\" controls autoplay loop style=\"max-width: 75%;\"  >\n",
       "      Your browser does not support the <code>video</code> element.\n",
       "    </video>"
      ],
      "text/plain": [
       "<IPython.core.display.Video object>"
      ]
     },
     "metadata": {},
     "output_type": "display_data"
    }
   ],
   "source": [
    "%%manim -qh SCENE_NAME\n",
    "\n",
    "from manim import *\n",
    "\n",
    "class SCENE_NAME(Scene):        # Each chunk of code will begin with these two lines. The first line defines a 'class' called SCENE_NAME, which has the type \"scene\"\n",
    "    def construct(self):        # The second line defines the \"self\" construct.  I'm not entirely sure what this does, but you need it for things to work. \n",
    "        a_circle = Circle()     # Define a variable called \"a_circle\", which will be the MObject \"Circle\".  Currently, no paramenters are passed to the Circle function. \n",
    "\n",
    "        self.play(Create(a_circle))     # Animate the circle onto the screen using the \"Create\" animation"
   ]
  },
  {
   "cell_type": "markdown",
   "metadata": {},
   "source": [
    "Hey look, we've made our first manim animation.  We can also see what the default parameters for the \"Circle\" Mobject are. \n",
    "\n",
    "Let's now add some more things to the scene.  Suppose we want to now add a square.  First we need to define a new variable that will be our square, and then tell manim to put it on the screen. I'll use a new kind of animation called \"FadeIn\", which does probably what you think it does. "
   ]
  },
  {
   "cell_type": "code",
   "execution_count": 4,
   "metadata": {},
   "outputs": [
    {
     "data": {
      "text/html": [
       "<pre style=\"white-space:pre;overflow-x:auto;line-height:normal;font-family:Menlo,'DejaVu Sans Mono',consolas,'Courier New',monospace\">Manim Community <span style=\"color: #008000; text-decoration-color: #008000\">v0.18.1</span>\n",
       "\n",
       "</pre>\n"
      ],
      "text/plain": [
       "Manim Community \u001b[32mv0.\u001b[0m\u001b[32m18.1\u001b[0m\n",
       "\n"
      ]
     },
     "metadata": {},
     "output_type": "display_data"
    },
    {
     "name": "stderr",
     "output_type": "stream",
     "text": [
      "                                                                             \r"
     ]
    },
    {
     "data": {
      "text/html": [
       "<video src=\"media/jupyter/SCENE_NAME@2024-10-14@22-31-57.mp4\" controls autoplay loop style=\"max-width: 75%;\"  >\n",
       "      Your browser does not support the <code>video</code> element.\n",
       "    </video>"
      ],
      "text/plain": [
       "<IPython.core.display.Video object>"
      ]
     },
     "metadata": {},
     "output_type": "display_data"
    }
   ],
   "source": [
    "%%manim -qh SCENE_NAME\n",
    "\n",
    "from manim import *\n",
    "\n",
    "class SCENE_NAME(Scene):        # Each chunk of code will begin with these two lines. The first line defines a 'class' called SCENE_NAME, which has the type \"scene\"\n",
    "    def construct(self):        # The second line defines the \"self\" construct.  I'm not entirely sure what this does, but you need it for things to work. \n",
    "        a_circle = Circle()     # Define a variable called \"a_circle\", which will be the MObject \"Circle\".  Currently, no paramenters are passed to the Circle function. \n",
    "\n",
    "        self.play(Create(a_circle))     # Animate the circle onto the screen using the \"Create\" animation\n",
    "\n",
    "        a_square = Square()     # Define a variable called \"a_square\" which will be the Mobject \"Square\"\n",
    "\n",
    "        self.play(FadeIn(a_square))     # Animate the square onto the screen using the \"FadeIn\" animation\n"
   ]
  },
  {
   "cell_type": "markdown",
   "metadata": {},
   "source": [
    "So hopefully you can see from here, in order to make objects appear on the screen, we first must define what those objects are.  Then, we pass those objects to some sort of animation function, which will display the object. \n",
    "\n",
    "From here, I would suggest that you play around with the scence briefly.  Define 1 or 2 new variables, and have them be drawn to the screen. "
   ]
  },
  {
   "cell_type": "code",
   "execution_count": 13,
   "metadata": {},
   "outputs": [
    {
     "data": {
      "text/html": [
       "<pre style=\"white-space:pre;overflow-x:auto;line-height:normal;font-family:Menlo,'DejaVu Sans Mono',consolas,'Courier New',monospace\">Manim Community <span style=\"color: #008000; text-decoration-color: #008000\">v0.18.1</span>\n",
       "\n",
       "</pre>\n"
      ],
      "text/plain": [
       "Manim Community \u001b[32mv0.\u001b[0m\u001b[32m18.1\u001b[0m\n",
       "\n"
      ]
     },
     "metadata": {},
     "output_type": "display_data"
    },
    {
     "name": "stderr",
     "output_type": "stream",
     "text": [
      "                                                                                \r"
     ]
    },
    {
     "data": {
      "text/html": [
       "<video src=\"media/jupyter/SCENE_NAME@2024-10-15@19-08-07.mp4\" controls autoplay loop style=\"max-width: 75%;\"  >\n",
       "      Your browser does not support the <code>video</code> element.\n",
       "    </video>"
      ],
      "text/plain": [
       "<IPython.core.display.Video object>"
      ]
     },
     "metadata": {},
     "output_type": "display_data"
    }
   ],
   "source": [
    "%%manim -qh SCENE_NAME\n",
    "\n",
    "from manim import *\n",
    "\n",
    "class SCENE_NAME(Scene):            # Each chunk of code will begin with these two lines. The first line defines a 'class' called SCENE_NAME, which has the type \"scene\"\n",
    "    def construct(self):            # The second line defines the \"self\" construct.  I'm not entirely sure what this does, but you need it for things to work. \n",
    "        a_circle = Circle()         # Define a variable called \"a_circle\", which will be the MObject \"Circle\".  Currently, no paramenters are passed to the Circle function. \n",
    "\n",
    "        self.play(Create(a_circle)) # Animate the circle onto the screen using the \"Create\" animation\n",
    "        self.play(FadeOut(a_circle)) # Fade the a_circle object out\n",
    "\n",
    "        a_square = Square()         # Define a variable called \"a_square\" which will be the Mobject \"Square\"\n",
    "\n",
    "        self.play(FadeIn(a_square)) # Animate the square onto the screen using the \"FadeIn\" animation\n",
    "\n",
    "        blue_circle = (             # Define a blue_circle, which is a circle with a blue border, and is filled with blue.\n",
    "            Circle(                 # Sometimes, a function might take in several arguments, and it's notationally convienent to write the function this way for easy reading.  \n",
    "                fill_color = BLUE,  # This will make the fill color BLUE.  Defeault is NULL\n",
    "                fill_opacity = 0.3, # This will set the opacity. Default is 0.0\n",
    "                color = BLUE,       # This will set the border color. Default is RED\n",
    "                radius=2)           # This will set the radius.  Default is 1\n",
    "         )                          # There are other attributes you can set as well.  Attributes all have default values they take on unless you change them. \n",
    "\n",
    "         # Below is the exact same thing as above, just all written to one line.  You can choose whichever you prefer. \n",
    "\n",
    "    # blue_circle = (Circle(fill_color = BLUE, fill_opacity = 0.3, color = BLUE, radius=2))\n",
    "\n",
    "\n",
    "\n",
    "        self.play(Transform(a_square, blue_circle))  # This is a cool animation.  It will transfrom the first argument into the second argument. \n",
    "\n",
    "        self.wait(3)                # Force the movie to freeze for 3 seconds."
   ]
  },
  {
   "cell_type": "markdown",
   "metadata": {},
   "source": [
    "In that last piece, I've also introduced the possibility of adding arguments to the functions.  For the shape functions (such as Circle() and Square()) we can ask manim do make those shapes look a certain way.  By default, the Circle() command creates a red circle with no fill color, with a radius of 1, located at the center of the scence. You should play around with the function arguments for blue_circle and see what other circles you can.  Also try with the a_square object!\n",
    "\n",
    "From a grand perspective, this is all manim is.  Making objects, then specifying where those objects should appear, and HOW they should appear. \n",
    "\n",
    "Let's complete the basics by having these objects move around.  I'm going to alter our code above so that all three objects are on the screen at once."
   ]
  },
  {
   "cell_type": "code",
   "execution_count": 14,
   "metadata": {},
   "outputs": [
    {
     "data": {
      "text/html": [
       "<pre style=\"white-space:pre;overflow-x:auto;line-height:normal;font-family:Menlo,'DejaVu Sans Mono',consolas,'Courier New',monospace\">Manim Community <span style=\"color: #008000; text-decoration-color: #008000\">v0.18.1</span>\n",
       "\n",
       "</pre>\n"
      ],
      "text/plain": [
       "Manim Community \u001b[32mv0.\u001b[0m\u001b[32m18.1\u001b[0m\n",
       "\n"
      ]
     },
     "metadata": {},
     "output_type": "display_data"
    },
    {
     "name": "stderr",
     "output_type": "stream",
     "text": [
      "                                                                            \r"
     ]
    },
    {
     "data": {
      "text/html": [
       "<video src=\"media/jupyter/SCENE_NAME@2024-10-15@19-21-48.mp4\" controls autoplay loop style=\"max-width: 75%;\"  >\n",
       "      Your browser does not support the <code>video</code> element.\n",
       "    </video>"
      ],
      "text/plain": [
       "<IPython.core.display.Video object>"
      ]
     },
     "metadata": {},
     "output_type": "display_data"
    }
   ],
   "source": [
    "%%manim -qh SCENE_NAME\n",
    "\n",
    "from manim import *\n",
    "\n",
    "class SCENE_NAME(Scene):            # Each chunk of code will begin with these two lines. The first line defines a 'class' called SCENE_NAME, which has the type \"scene\"\n",
    "    def construct(self):            # The second line defines the \"self\" construct.  I'm not entirely sure what this does, but you need it for things to work. \n",
    "        a_circle = Circle()         # Define a variable called \"a_circle\", which will be the MObject \"Circle\".  Currently, no paramenters are passed to the Circle function. \n",
    "\n",
    "        a_square = Square()         # Define a variable called \"a_square\" which will be the Mobject \"Square\"\n",
    "\n",
    "        blue_circle = (             # Define a blue_circle, which is a circle with a blue border, and is filled with blue.\n",
    "            Circle(                 # Sometimes, a function might take in several arguments, and it's notationally convienent to write the function this way for easy reading.  \n",
    "                fill_color = BLUE,  # This will make the fill color BLUE.  Defeault is NULL\n",
    "                fill_opacity = 0.3, # This will set the opacity. Default is 0.0\n",
    "                color = BLUE,       # This will set the border color. Default is RED\n",
    "                radius=2)           # This will set the radius.  Default is 1\n",
    "         )                          # There are other attributes you can set as well.  Attributes all have default values they take on unless you change them. \n",
    "\n",
    "         # Below is the exact same thing as above, just all written to one line.  You can choose whichever you prefer. \n",
    "\n",
    "    # blue_circle = (Circle(fill_color = BLUE, fill_opacity = 0.3, color = BLUE, radius=2))\n",
    "\n",
    "        self.play(FadeIn(a_circle, a_square, blue_circle))\n",
    "\n",
    "\n",
    "        self.wait(3)                # Force the movie to freeze for 3 seconds."
   ]
  },
  {
   "cell_type": "markdown",
   "metadata": {},
   "source": [
    "Note that I was able to call all three objects with a single animation function, I just had to separate each object with a comma. \n",
    "\n",
    "Maybe we want these object to appear in three different locations.  There are a few ways to do that.  First, let's use some of the built in functions.\n",
    "\n",
    "Let's say we want the big blue circle to appear in the lower right corner of the screen, the small red circle to appear in the top of the frame, and the square to appear at the far left side. "
   ]
  },
  {
   "cell_type": "code",
   "execution_count": 15,
   "metadata": {},
   "outputs": [
    {
     "data": {
      "text/html": [
       "<pre style=\"white-space:pre;overflow-x:auto;line-height:normal;font-family:Menlo,'DejaVu Sans Mono',consolas,'Courier New',monospace\">Manim Community <span style=\"color: #008000; text-decoration-color: #008000\">v0.18.1</span>\n",
       "\n",
       "</pre>\n"
      ],
      "text/plain": [
       "Manim Community \u001b[32mv0.\u001b[0m\u001b[32m18.1\u001b[0m\n",
       "\n"
      ]
     },
     "metadata": {},
     "output_type": "display_data"
    },
    {
     "name": "stderr",
     "output_type": "stream",
     "text": [
      "                                                                            \r"
     ]
    },
    {
     "data": {
      "text/html": [
       "<video src=\"media/jupyter/SCENE_NAME@2024-10-15@19-25-19.mp4\" controls autoplay loop style=\"max-width: 75%;\"  >\n",
       "      Your browser does not support the <code>video</code> element.\n",
       "    </video>"
      ],
      "text/plain": [
       "<IPython.core.display.Video object>"
      ]
     },
     "metadata": {},
     "output_type": "display_data"
    }
   ],
   "source": [
    "%%manim -qh SCENE_NAME\n",
    "\n",
    "from manim import *\n",
    "\n",
    "class SCENE_NAME(Scene):            # Each chunk of code will begin with these two lines. The first line defines a 'class' called SCENE_NAME, which has the type \"scene\"\n",
    "    def construct(self):            # The second line defines the \"self\" construct.  I'm not entirely sure what this does, but you need it for things to work. \n",
    "        a_circle = Circle().to_edge(UP)         # Define a variable called \"a_circle\", which will be the MObject \"Circle\".  Currently, no paramenters are passed to the Circle function. \n",
    "\n",
    "        a_square = Square().to_edge(LEFT)         # Define a variable called \"a_square\" which will be the Mobject \"Square\"\n",
    "\n",
    "        blue_circle = (             # Define a blue_circle, which is a circle with a blue border, and is filled with blue.\n",
    "            Circle(                 # Sometimes, a function might take in several arguments, and it's notationally convienent to write the function this way for easy reading.  \n",
    "                fill_color = BLUE,  # This will make the fill color BLUE.  Defeault is NULL\n",
    "                fill_opacity = 0.3, # This will set the opacity. Default is 0.0\n",
    "                color = BLUE,       # This will set the border color. Default is RED\n",
    "                radius=2).to_corner(DR)           # This will set the radius.  Default is 1\n",
    "         )                          # There are other attributes you can set as well.  Attributes all have default values they take on unless you change them. \n",
    "\n",
    "         # Below is the exact same thing as above, just all written to one line.  You can choose whichever you prefer. \n",
    "\n",
    "    # blue_circle = (Circle(fill_color = BLUE, fill_opacity = 0.3, color = BLUE, radius=2))\n",
    "\n",
    "        self.play(FadeIn(a_circle, a_square, blue_circle))\n",
    "\n",
    "\n",
    "        self.wait(3)                # Force the movie to freeze for 3 seconds."
   ]
  },
  {
   "cell_type": "markdown",
   "metadata": {},
   "source": [
    "Note that at the end of each variable definition, we've added one of the following commands:\n",
    "\n",
    "```python\n",
    ".to_edge()\n",
    ".to_corner()\n",
    "```\n",
    "\n",
    "The arguments to_edge and to_corner do what it sounds like.  They will tell an object to go to a particular location.  For to_edge, the argument can be UP, DOWN, LEFT, or RIGHT.  For to_corner, the options are UL (upper left), UR (upper right), DL (down left) DR (down right). \n",
    "\n",
    "We can also use the `shift' command in place of the edge/corner command.  Shift is used when you want to be very specific about where you want the object.  Edge/Corner is great if you want objects in those general areas."
   ]
  },
  {
   "cell_type": "code",
   "execution_count": 17,
   "metadata": {},
   "outputs": [
    {
     "data": {
      "text/html": [
       "<pre style=\"white-space:pre;overflow-x:auto;line-height:normal;font-family:Menlo,'DejaVu Sans Mono',consolas,'Courier New',monospace\">Manim Community <span style=\"color: #008000; text-decoration-color: #008000\">v0.18.1</span>\n",
       "\n",
       "</pre>\n"
      ],
      "text/plain": [
       "Manim Community \u001b[32mv0.\u001b[0m\u001b[32m18.1\u001b[0m\n",
       "\n"
      ]
     },
     "metadata": {},
     "output_type": "display_data"
    },
    {
     "name": "stderr",
     "output_type": "stream",
     "text": [
      "                                                                            \r"
     ]
    },
    {
     "data": {
      "text/html": [
       "<video src=\"media/jupyter/SCENE_NAME@2024-10-15@21-36-48.mp4\" controls autoplay loop style=\"max-width: 75%;\"  >\n",
       "      Your browser does not support the <code>video</code> element.\n",
       "    </video>"
      ],
      "text/plain": [
       "<IPython.core.display.Video object>"
      ]
     },
     "metadata": {},
     "output_type": "display_data"
    }
   ],
   "source": [
    "%%manim -qh SCENE_NAME\n",
    "\n",
    "from manim import *\n",
    "\n",
    "class SCENE_NAME(Scene):            # Each chunk of code will begin with these two lines. The first line defines a 'class' called SCENE_NAME, which has the type \"scene\"\n",
    "    def construct(self):            # The second line defines the \"self\" construct.  I'm not entirely sure what this does, but you need it for things to work. \n",
    "        a_circle = Circle().shift(UP*2)        # Define a variable called \"a_circle\", which will be the MObject \"Circle\".  Currently, no paramenters are passed to the Circle function. \n",
    "\n",
    "        a_square = Square().shift(DOWN*2+RIGHT*2)       # Define a variable called \"a_square\" which will be the Mobject \"Square\"\n",
    "\n",
    "        blue_circle = (             # Define a blue_circle, which is a circle with a blue border, and is filled with blue.\n",
    "            Circle(                 # Sometimes, a function might take in several arguments, and it's notationally convienent to write the function this way for easy reading.  \n",
    "                fill_color = BLUE,  # This will make the fill color BLUE.  Defeault is NULL\n",
    "                fill_opacity = 0.3, # This will set the opacity. Default is 0.0\n",
    "                color = BLUE,       # This will set the border color. Default is RED\n",
    "                radius=2).shift(LEFT*2)           # This will set the radius.  Default is 1\n",
    "         )                          # There are other attributes you can set as well.  Attributes all have default values they take on unless you change them. \n",
    "\n",
    "         # Below is the exact same thing as above, just all written to one line.  You can choose whichever you prefer. \n",
    "\n",
    "    # blue_circle = (Circle(fill_color = BLUE, fill_opacity = 0.3, color = BLUE, radius=2))\n",
    "\n",
    "        self.play(FadeIn(a_circle, a_square, blue_circle))\n",
    "\n",
    "\n",
    "        self.wait(3)                # Force the movie to freeze for 3 seconds."
   ]
  },
  {
   "cell_type": "markdown",
   "metadata": {},
   "source": [
    "Notice that for .shift(), you specify how many units left/right and up/down you want the object to be shifted by.  \n",
    "\n",
    "So this is all well and good.  We can make objects, set their color and size, then then place them onto the screen with one of several different kinds of animations. Lastly, let's see how we can make our objects move AFTER they are already drawn onto the screen.  Since this is a sort of animation, this kind of command will be attached to the self.play() enviroment, the same place we called our animations earlier. \n",
    "\n",
    "Here, I will use the .animate() function."
   ]
  },
  {
   "cell_type": "code",
   "execution_count": 19,
   "metadata": {},
   "outputs": [
    {
     "data": {
      "text/html": [
       "<pre style=\"white-space:pre;overflow-x:auto;line-height:normal;font-family:Menlo,'DejaVu Sans Mono',consolas,'Courier New',monospace\">Manim Community <span style=\"color: #008000; text-decoration-color: #008000\">v0.18.1</span>\n",
       "\n",
       "</pre>\n"
      ],
      "text/plain": [
       "Manim Community \u001b[32mv0.\u001b[0m\u001b[32m18.1\u001b[0m\n",
       "\n"
      ]
     },
     "metadata": {},
     "output_type": "display_data"
    },
    {
     "name": "stderr",
     "output_type": "stream",
     "text": [
      "                                                                                       \r"
     ]
    },
    {
     "data": {
      "text/html": [
       "<video src=\"media/jupyter/SCENE_NAME@2024-10-15@21-44-59.mp4\" controls autoplay loop style=\"max-width: 75%;\"  >\n",
       "      Your browser does not support the <code>video</code> element.\n",
       "    </video>"
      ],
      "text/plain": [
       "<IPython.core.display.Video object>"
      ]
     },
     "metadata": {},
     "output_type": "display_data"
    }
   ],
   "source": [
    "%%manim -qh SCENE_NAME\n",
    "\n",
    "from manim import *\n",
    "\n",
    "class SCENE_NAME(Scene):            # Each chunk of code will begin with these two lines. The first line defines a 'class' called SCENE_NAME, which has the type \"scene\"\n",
    "    def construct(self):            # The second line defines the \"self\" construct.  I'm not entirely sure what this does, but you need it for things to work. \n",
    "        a_circle = Circle().to_edge(UP)         # Define a variable called \"a_circle\", which will be the MObject \"Circle\".  Currently, no paramenters are passed to the Circle function. \n",
    "\n",
    "        a_square = Square().to_edge(LEFT)         # Define a variable called \"a_square\" which will be the Mobject \"Square\"\n",
    "\n",
    "        blue_circle = (             # Define a blue_circle, which is a circle with a blue border, and is filled with blue.\n",
    "            Circle(                 # Sometimes, a function might take in several arguments, and it's notationally convienent to write the function this way for easy reading.  \n",
    "                fill_color = BLUE,  # This will make the fill color BLUE.  Defeault is NULL\n",
    "                fill_opacity = 0.3, # This will set the opacity. Default is 0.0\n",
    "                color = BLUE,       # This will set the border color. Default is RED\n",
    "                radius=2).to_corner(DR)           # This will set the radius.  Default is 1\n",
    "         )                          # There are other attributes you can set as well.  Attributes all have default values they take on unless you change them. \n",
    "\n",
    "         # Below is the exact same thing as above, just all written to one line.  You can choose whichever you prefer. \n",
    "\n",
    "    # blue_circle = (Circle(fill_color = BLUE, fill_opacity = 0.3, color = BLUE, radius=2))\n",
    "\n",
    "        self.play(FadeIn(a_circle, a_square, blue_circle))\n",
    "\n",
    "        self.play(a_circle.animate.to_corner(UL))           # Animate the circle, send it to upper left corner\n",
    "        self.play(a_square.animate.to_edge(UP))             # Animate the square, send it to the top edge (will go straight up)\n",
    "        self.play(blue_circle.animate.shift(UP*3 + LEFT*3)) # Animate the blue circle, shift it up by 3, left by 3\n",
    "\n",
    "\n",
    "        self.wait(3)                # Force the movie to freeze for 3 seconds."
   ]
  },
  {
   "cell_type": "markdown",
   "metadata": {},
   "source": [
    "The way we've written the animations is one after another in the code.  If we want them to happen simoultaneously, then they must be called in the same self.play function:"
   ]
  },
  {
   "cell_type": "code",
   "execution_count": 20,
   "metadata": {},
   "outputs": [
    {
     "data": {
      "text/html": [
       "<pre style=\"white-space:pre;overflow-x:auto;line-height:normal;font-family:Menlo,'DejaVu Sans Mono',consolas,'Courier New',monospace\">Manim Community <span style=\"color: #008000; text-decoration-color: #008000\">v0.18.1</span>\n",
       "\n",
       "</pre>\n"
      ],
      "text/plain": [
       "Manim Community \u001b[32mv0.\u001b[0m\u001b[32m18.1\u001b[0m\n",
       "\n"
      ]
     },
     "metadata": {},
     "output_type": "display_data"
    },
    {
     "name": "stderr",
     "output_type": "stream",
     "text": [
      "                                                                                             \r"
     ]
    },
    {
     "data": {
      "text/html": [
       "<video src=\"media/jupyter/SCENE_NAME@2024-10-15@21-47-44.mp4\" controls autoplay loop style=\"max-width: 75%;\"  >\n",
       "      Your browser does not support the <code>video</code> element.\n",
       "    </video>"
      ],
      "text/plain": [
       "<IPython.core.display.Video object>"
      ]
     },
     "metadata": {},
     "output_type": "display_data"
    }
   ],
   "source": [
    "%%manim -qh SCENE_NAME\n",
    "\n",
    "from manim import *\n",
    "\n",
    "class SCENE_NAME(Scene):            # Each chunk of code will begin with these two lines. The first line defines a 'class' called SCENE_NAME, which has the type \"scene\"\n",
    "    def construct(self):            # The second line defines the \"self\" construct.  I'm not entirely sure what this does, but you need it for things to work. \n",
    "        a_circle = Circle().to_edge(UP)         # Define a variable called \"a_circle\", which will be the MObject \"Circle\".  Currently, no paramenters are passed to the Circle function. \n",
    "\n",
    "        a_square = Square().to_edge(LEFT)         # Define a variable called \"a_square\" which will be the Mobject \"Square\"\n",
    "\n",
    "        blue_circle = (             # Define a blue_circle, which is a circle with a blue border, and is filled with blue.\n",
    "            Circle(                 # Sometimes, a function might take in several arguments, and it's notationally convienent to write the function this way for easy reading.  \n",
    "                fill_color = BLUE,  # This will make the fill color BLUE.  Defeault is NULL\n",
    "                fill_opacity = 0.3, # This will set the opacity. Default is 0.0\n",
    "                color = BLUE,       # This will set the border color. Default is RED\n",
    "                radius=2).to_corner(DR)           # This will set the radius.  Default is 1\n",
    "         )                          # There are other attributes you can set as well.  Attributes all have default values they take on unless you change them. \n",
    "\n",
    "         # Below is the exact same thing as above, just all written to one line.  You can choose whichever you prefer. \n",
    "\n",
    "    # blue_circle = (Circle(fill_color = BLUE, fill_opacity = 0.3, color = BLUE, radius=2))\n",
    "\n",
    "        self.play(FadeIn(a_circle, a_square, blue_circle))\n",
    "\n",
    "        self.play(a_circle.animate.to_corner(UL),a_square.animate.to_edge(UP),blue_circle.animate.shift(UP*3 + LEFT*3)) \n",
    "\n",
    "\n",
    "        self.wait(3)                # Force the movie to freeze for 3 seconds."
   ]
  }
 ],
 "metadata": {
  "kernelspec": {
   "display_name": ".py3env",
   "language": "python",
   "name": "python3"
  },
  "language_info": {
   "codemirror_mode": {
    "name": "ipython",
    "version": 3
   },
   "file_extension": ".py",
   "mimetype": "text/x-python",
   "name": "python",
   "nbconvert_exporter": "python",
   "pygments_lexer": "ipython3",
   "version": "3.12.7"
  }
 },
 "nbformat": 4,
 "nbformat_minor": 2
}
